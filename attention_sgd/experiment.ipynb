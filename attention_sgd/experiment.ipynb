{
 "cells": [
  {
   "cell_type": "code",
   "execution_count": null,
   "metadata": {
    "pycharm": {
     "is_executing": false
    }
   },
   "outputs": [],
   "source": [
    "%matplotlib inline\n",
    "import matplotlib.pyplot as plt\n",
    "from IPython import display\n",
    "import time\n",
    "import os\n",
    "import sys\n",
    "\n",
    "project_path = os.path.abspath(os.path.join('..'))\n",
    "if project_path not in sys.path:\n",
    "    sys.path.append(project_path)\n",
    "\n",
    "from dataclasses import dataclass\n",
    "\n",
    "import torch\n",
    "import numpy as np\n",
    "from tqdm import tqdm\n",
    "\n",
    "from attention_sgd.models.attention.attention import AttentionOperation\n",
    "from attention_sgd.utils.observer_utils import MultiObserver\n",
    "from attention_sgd.utils.torch_utils import default_device\n",
    "from attention_sgd.batched_task import BatchedTask\n",
    "from attention_sgd.learning_loop import LearningLoop\n",
    "from attention_sgd.search_agent import SearchAgent\n",
    "from attention_sgd.search_task import ToZeroTorchTask"
   ]
  },
  {
   "cell_type": "code",
   "execution_count": null,
   "metadata": {
    "pycharm": {
     "is_executing": true,
     "name": "#%%\n"
    }
   },
   "outputs": [],
   "source": [
    "@dataclass\n",
    "class Params:\n",
    "    batch_size: int = 32\n",
    "    hidden_state_size: int = 16\n",
    "    id_size: int = 31  # must be value_size - 1\n",
    "    key_size: int = 2\n",
    "    value_size: int = 32\n",
    "\n",
    "    epochs: int = 3000\n",
    "    rollout_size: int = 2\n",
    "\n",
    "    # ignore_error_start_steps: int = 5\n",
    "    # training_reset_targets_period: int = -1\n",
    "    learning_rate: float = 1e-3\n",
    "\n",
    "    task_size: int = 5\n",
    "    n_experts: int = 5\n",
    "\n",
    "    save_period: int = 100\n",
    "    image_save_period: int = 100\n",
    "    attention_beta: float = 8\n",
    "    attention_operation: str = 'euclidean_distance'\n",
    "\n",
    "\n",
    "p = Params()\n",
    "\n",
    "agent = SearchAgent(hidden_state_size=p.hidden_state_size, key_size=p.key_size, id_size=p.id_size,\n",
    "                    value_size=p.value_size, input_size=1, n_inputs=p.task_size,\n",
    "                    attention_beta=p.attention_beta,\n",
    "                    attention_operation=AttentionOperation.from_string(p.attention_operation),\n",
    "                    learning_rate=p.learning_rate).to(default_device())\n",
    "\n",
    "task = BatchedTask(p.batch_size, lambda: ToZeroTorchTask(p.task_size))\n",
    "inner_loop = LearningLoop()\n",
    "loss = []\n",
    "for epoch in tqdm(range(1, p.epochs + 1)):\n",
    "    # with torch.autograd.detect_anomaly():\n",
    "    should_save_images = epoch % p.image_save_period == 0\n",
    "    observer = MultiObserver() if should_save_images else None\n",
    "\n",
    "    agent.optim.zero_grad()\n",
    "    agent.init_rollout(p.batch_size, p.n_experts)\n",
    "    err = inner_loop.train_fixed_steps(agent, task, p.rollout_size, observer)\n",
    "    err = torch.mean(err)\n",
    "    err.backward()\n",
    "    agent.optim.step()\n",
    "\n",
    "    loss.append(err.cpu().detach().item())\n",
    "\n",
    "    if observer is not None:\n",
    "        tensors = [o.tensors_as_dict() for o in observer.observers]\n",
    "\n",
    "    # log targets\n",
    "    if epoch % 50 == 0:\n",
    "        plt.gcf().set_size_inches((12, 6))\n",
    "        display.clear_output(wait=True)\n",
    "        display.display(plt.gcf())\n",
    "        time.sleep(0.01)\n",
    "        \n",
    "        # Average loss\n",
    "        cs = np.cumsum(loss)\n",
    "        cs = (cs[100:] - cs[:-100]) / 100.0\n",
    "        plt.clf()\n",
    "        plt.plot(cs)\n",
    "        plt.yscale('log')"
   ]
  }
 ],
 "metadata": {
  "kernelspec": {
   "display_name": "Python 3",
   "language": "python",
   "name": "python3"
  },
  "language_info": {
   "codemirror_mode": {
    "name": "ipython",
    "version": 3
   },
   "file_extension": ".py",
   "mimetype": "text/x-python",
   "name": "python",
   "nbconvert_exporter": "python",
   "pygments_lexer": "ipython3",
   "version": "3.7.5"
  },
  "pycharm": {
   "stem_cell": {
    "cell_type": "raw",
    "metadata": {
     "collapsed": false
    },
    "source": []
   }
  }
 },
 "nbformat": 4,
 "nbformat_minor": 4
}
